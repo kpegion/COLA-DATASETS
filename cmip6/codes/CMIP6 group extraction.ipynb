{
 "cells": [
  {
   "cell_type": "code",
   "execution_count": null,
   "metadata": {},
   "outputs": [],
   "source": [
    "import os\n",
    "import glob\n",
    "os.chdir('C://Users//Noushin/Desktop/')\n",
    "file_1 = \"1.txt\"\n",
    "file_2 = \"2.txt\"\n",
    "\n",
    "#This is used when you have 2 files, one having paths like: /shared/cmip6/data/piControl/seaIce/mon/OImon/siconc/NCC.NorESM2-LM/r1i1p1\n",
    "#and the second one has the complete thing like: /shared/cmip6/data/piControl/seaIce/mon/OImon/siconc/NCC.NorESM2-LM/r1i1p1/siconc_SImon_NorESM2-LM_piControl_r1i1p1f1_gn_*.nc\tsiconc_SImon_NorESM2-LM_piControl_r1i1p1f1_gn\tgridded,global,model,monthly\n",
    "#\n",
    "#one of them is the result of group extraction which finds the p in a set and the other one is the result of preparing files\n",
    "#\n",
    "def search(input_line, inp):\n",
    "    \n",
    "    input_line = input_line.strip().strip(\"''\")\n",
    "    \n",
    "    inp = open(inp, 'r+')\n",
    "    in_lines = inp.readlines()\n",
    "    for l in in_lines:\n",
    "        if l.strip().strip(\"''\").startswith(input_line):\n",
    "            return(l)\n",
    "new_file_content = \"\"\n",
    "\n",
    "with open(file_1, \"r+\") as fp:\n",
    "        lines = fp.readlines()\n",
    "        for line in lines:\n",
    "            res = search(line, file_2)\n",
    "            new_line = line.replace(line,str(res))\n",
    "            new_file_content += new_line\n",
    "        fp.seek(0, 0)\n",
    "        fp.write(new_file_content) \n",
    "\n",
    "\n",
    "print('done')"
   ]
  }
 ],
 "metadata": {
  "kernelspec": {
   "display_name": "Python 3",
   "language": "python",
   "name": "python3"
  },
  "language_info": {
   "codemirror_mode": {
    "name": "ipython",
    "version": 3
   },
   "file_extension": ".py",
   "mimetype": "text/x-python",
   "name": "python",
   "nbconvert_exporter": "python",
   "pygments_lexer": "ipython3",
   "version": "3.7.3"
  }
 },
 "nbformat": 4,
 "nbformat_minor": 4
}
