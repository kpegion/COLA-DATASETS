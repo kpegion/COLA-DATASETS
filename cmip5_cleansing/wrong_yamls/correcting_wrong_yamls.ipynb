{
 "cells": [
  {
   "cell_type": "markdown",
   "metadata": {},
   "source": [
    "Here it removes buggy files \n"
   ]
  },
  {
   "cell_type": "code",
   "execution_count": null,
   "metadata": {},
   "outputs": [],
   "source": [
    "import os\n",
    "import re\n",
    "os.chdir(\"C://Users//Noushin//Desktop/COLA-DATASETS-CATALOG/\")\n",
    "my_list = []\n",
    "ffp = open(\"../historicalNat.txt\", \"r\")\n",
    "lines = ffp.readlines()\n",
    "for line in lines:\n",
    "    my_list.append(line.strip())\n",
    "\n",
    "for file in my_list:\n",
    "    if os.path.exists(file):\n",
    "        os.remove(file)\n",
    "        print(file, \" was removed\")\n",
    "    else:\n",
    "        print(file, \" does not exist\")\n",
    "\n",
    "print(\"Done\")"
   ]
  },
  {
   "cell_type": "markdown",
   "metadata": {},
   "source": [
    "Finding complete path in v15 and making it ready for being processed"
   ]
  },
  {
   "cell_type": "code",
   "execution_count": 35,
   "metadata": {},
   "outputs": [],
   "source": [
    "import re\n",
    "import os\n",
    "import re\n",
    "#os.chdir(\"C://Users//Noushin//Desktop/\")\n",
    "os.chdir(\"C://Users//Noushin//Desktop//wrong_yamls/1pctCO2\")\n",
    "file1 = \"1pctCO22.txt\"\n",
    "file2 = \"processed_1pctCO2_paths.txt\"\n",
    "file3 = \"1pctCO2_paths.txt\"\n",
    "my_list = []\n",
    "my_list2 = []\n",
    "def find_n_replace(pattern, lines2):\n",
    "     for line in lines2:\n",
    "        if re.search(pattern, line):\n",
    "            my_list2.append(line)\n",
    "            break\n",
    "\n",
    "\n",
    "ffp = open(file1, \"r\")\n",
    "lines = ffp.readlines()\n",
    "for line in lines:\n",
    "    my_list.append(line.strip())\n",
    "    \n",
    "\n",
    "ffp2 = open(file2, \"r\")\n",
    "lines2 = ffp2.readlines()\n",
    "\n",
    "for item in my_list:\n",
    "    find_n_replace(item, lines2)\n",
    "    \n",
    "    \n",
    "    \n",
    "with open(file3, 'w') as f:\n",
    "    for item in my_list2:\n",
    "        f.write(\"%s\" % item)"
   ]
  },
  {
   "cell_type": "code",
   "execution_count": null,
   "metadata": {},
   "outputs": [],
   "source": []
  },
  {
   "cell_type": "code",
   "execution_count": null,
   "metadata": {},
   "outputs": [],
   "source": []
  }
 ],
 "metadata": {
  "kernelspec": {
   "display_name": "Python 3",
   "language": "python",
   "name": "python3"
  },
  "language_info": {
   "codemirror_mode": {
    "name": "ipython",
    "version": 3
   },
   "file_extension": ".py",
   "mimetype": "text/x-python",
   "name": "python",
   "nbconvert_exporter": "python",
   "pygments_lexer": "ipython3",
   "version": "3.7.3"
  }
 },
 "nbformat": 4,
 "nbformat_minor": 4
}
