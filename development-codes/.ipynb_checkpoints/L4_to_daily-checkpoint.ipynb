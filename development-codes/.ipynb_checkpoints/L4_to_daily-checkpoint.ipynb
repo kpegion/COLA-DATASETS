{
 "cells": [
  {
   "cell_type": "markdown",
   "metadata": {},
   "source": [
    "## Combine SMAP L4 3-hourly data into daily means"
   ]
  },
  {
   "cell_type": "code",
   "execution_count": 1,
   "metadata": {},
   "outputs": [],
   "source": [
    "import sys, warnings\n",
    "\n",
    "import glob\n",
    "import numpy as np\n",
    "import datetime\n",
    "from dateutil.rrule import DAILY,rrule\n",
    "from time import gmtime, strftime \n",
    "\n",
    "#import matplotlib as mpl\n",
    "import matplotlib.pyplot as plt\n",
    "#import matplotlib.colors as col\n",
    "#import matplotlib.cm as cm\n",
    "\n",
    "import xarray as xr\n",
    "\n",
    "warnings.filterwarnings(\"ignore\", category=RuntimeWarning)"
   ]
  },
  {
   "cell_type": "markdown",
   "metadata": {},
   "source": [
    "#### Set parameters for script"
   ]
  },
  {
   "cell_type": "code",
   "execution_count": 2,
   "metadata": {},
   "outputs": [],
   "source": [
    "version = 'SPL4SMGP.005' ; fprefix = 'SMAP_L4_SM_gph_' ; ftype = 'h5'\n",
    "source = '3-hourly'\n",
    "destin = 'daily'\n",
    "\n",
    "y0 = 2015 ; m0 = 4  ; d0 = 1\n",
    "y1 = 2020 ; m1 = 10 ; d1 = 3\n",
    "y0 = 2018 ; m0 = 1  ; d0 = 1\n",
    "#y1 = 2019 ; m1 = 12  ; d1 = 31\n",
    "y0 = 2020 ; m0 = 10 ; d0 = 4\n",
    "y1 = 2021 ; m1 = 8  ; d1 = 31"
   ]
  },
  {
   "cell_type": "markdown",
   "metadata": {},
   "source": [
    "#### Loop through days"
   ]
  },
  {
   "cell_type": "code",
   "execution_count": null,
   "metadata": {
    "scrolled": true
   },
   "outputs": [
    {
     "name": "stdout",
     "output_type": "stream",
     "text": [
      "At 11:55:38 :: 20201004 "
     ]
    },
    {
     "name": "stderr",
     "output_type": "stream",
     "text": [
      "/homes/dirmeyer/.local/lib/python3.7/site-packages/dask/array/numpy_compat.py:40: RuntimeWarning: invalid value encountered in true_divide\n",
      "  x = np.divide(x1, x2, out)\n"
     ]
    },
    {
     "name": "stdout",
     "output_type": "stream",
     "text": [
      "\n",
      "At 11:56:52 :: 20201005 "
     ]
    },
    {
     "name": "stderr",
     "output_type": "stream",
     "text": [
      "/homes/dirmeyer/.local/lib/python3.7/site-packages/dask/array/numpy_compat.py:40: RuntimeWarning: invalid value encountered in true_divide\n",
      "  x = np.divide(x1, x2, out)\n"
     ]
    },
    {
     "name": "stdout",
     "output_type": "stream",
     "text": [
      "\n",
      "At 11:58:10 :: 20201006 "
     ]
    },
    {
     "name": "stderr",
     "output_type": "stream",
     "text": [
      "/homes/dirmeyer/.local/lib/python3.7/site-packages/dask/array/numpy_compat.py:40: RuntimeWarning: invalid value encountered in true_divide\n",
      "  x = np.divide(x1, x2, out)\n"
     ]
    },
    {
     "name": "stdout",
     "output_type": "stream",
     "text": [
      "\n",
      "At 11:59:24 :: 20201007 "
     ]
    },
    {
     "name": "stderr",
     "output_type": "stream",
     "text": [
      "/homes/dirmeyer/.local/lib/python3.7/site-packages/dask/array/numpy_compat.py:40: RuntimeWarning: invalid value encountered in true_divide\n",
      "  x = np.divide(x1, x2, out)\n"
     ]
    },
    {
     "name": "stdout",
     "output_type": "stream",
     "text": [
      "\n",
      "At 12:00:38 :: 20201008 "
     ]
    },
    {
     "name": "stderr",
     "output_type": "stream",
     "text": [
      "/homes/dirmeyer/.local/lib/python3.7/site-packages/dask/array/numpy_compat.py:40: RuntimeWarning: invalid value encountered in true_divide\n",
      "  x = np.divide(x1, x2, out)\n"
     ]
    },
    {
     "name": "stdout",
     "output_type": "stream",
     "text": [
      "\n",
      "At 12:01:51 :: 20201009 "
     ]
    },
    {
     "name": "stderr",
     "output_type": "stream",
     "text": [
      "/homes/dirmeyer/.local/lib/python3.7/site-packages/dask/array/numpy_compat.py:40: RuntimeWarning: invalid value encountered in true_divide\n",
      "  x = np.divide(x1, x2, out)\n"
     ]
    },
    {
     "name": "stdout",
     "output_type": "stream",
     "text": [
      "\n",
      "At 12:03:01 :: 20201010 "
     ]
    },
    {
     "name": "stderr",
     "output_type": "stream",
     "text": [
      "/homes/dirmeyer/.local/lib/python3.7/site-packages/dask/array/numpy_compat.py:40: RuntimeWarning: invalid value encountered in true_divide\n",
      "  x = np.divide(x1, x2, out)\n"
     ]
    },
    {
     "name": "stdout",
     "output_type": "stream",
     "text": [
      "\n",
      "At 12:04:15 :: 20201011 "
     ]
    },
    {
     "name": "stderr",
     "output_type": "stream",
     "text": [
      "/homes/dirmeyer/.local/lib/python3.7/site-packages/dask/array/numpy_compat.py:40: RuntimeWarning: invalid value encountered in true_divide\n",
      "  x = np.divide(x1, x2, out)\n"
     ]
    },
    {
     "name": "stdout",
     "output_type": "stream",
     "text": [
      "\n",
      "At 12:05:30 :: 20201012 "
     ]
    },
    {
     "name": "stderr",
     "output_type": "stream",
     "text": [
      "/homes/dirmeyer/.local/lib/python3.7/site-packages/dask/array/numpy_compat.py:40: RuntimeWarning: invalid value encountered in true_divide\n",
      "  x = np.divide(x1, x2, out)\n"
     ]
    },
    {
     "name": "stdout",
     "output_type": "stream",
     "text": [
      "\n",
      "At 12:06:43 :: 20201013 "
     ]
    },
    {
     "name": "stderr",
     "output_type": "stream",
     "text": [
      "/homes/dirmeyer/.local/lib/python3.7/site-packages/dask/array/numpy_compat.py:40: RuntimeWarning: invalid value encountered in true_divide\n",
      "  x = np.divide(x1, x2, out)\n"
     ]
    },
    {
     "name": "stdout",
     "output_type": "stream",
     "text": [
      "\n",
      "At 12:07:55 :: 20201014 "
     ]
    },
    {
     "name": "stderr",
     "output_type": "stream",
     "text": [
      "/homes/dirmeyer/.local/lib/python3.7/site-packages/dask/array/numpy_compat.py:40: RuntimeWarning: invalid value encountered in true_divide\n",
      "  x = np.divide(x1, x2, out)\n"
     ]
    },
    {
     "name": "stdout",
     "output_type": "stream",
     "text": [
      "\n",
      "At 12:09:04 :: 20201015 "
     ]
    },
    {
     "name": "stderr",
     "output_type": "stream",
     "text": [
      "/homes/dirmeyer/.local/lib/python3.7/site-packages/dask/array/numpy_compat.py:40: RuntimeWarning: invalid value encountered in true_divide\n",
      "  x = np.divide(x1, x2, out)\n"
     ]
    },
    {
     "name": "stdout",
     "output_type": "stream",
     "text": [
      "\n",
      "At 12:10:18 :: 20201016 "
     ]
    },
    {
     "name": "stderr",
     "output_type": "stream",
     "text": [
      "/homes/dirmeyer/.local/lib/python3.7/site-packages/dask/array/numpy_compat.py:40: RuntimeWarning: invalid value encountered in true_divide\n",
      "  x = np.divide(x1, x2, out)\n"
     ]
    },
    {
     "name": "stdout",
     "output_type": "stream",
     "text": [
      "\n",
      "At 12:11:32 :: 20201017 "
     ]
    },
    {
     "name": "stderr",
     "output_type": "stream",
     "text": [
      "/homes/dirmeyer/.local/lib/python3.7/site-packages/dask/array/numpy_compat.py:40: RuntimeWarning: invalid value encountered in true_divide\n",
      "  x = np.divide(x1, x2, out)\n"
     ]
    },
    {
     "name": "stdout",
     "output_type": "stream",
     "text": [
      "\n",
      "At 12:12:45 :: 20201018 "
     ]
    },
    {
     "name": "stderr",
     "output_type": "stream",
     "text": [
      "/homes/dirmeyer/.local/lib/python3.7/site-packages/dask/array/numpy_compat.py:40: RuntimeWarning: invalid value encountered in true_divide\n",
      "  x = np.divide(x1, x2, out)\n"
     ]
    },
    {
     "name": "stdout",
     "output_type": "stream",
     "text": [
      "\n",
      "At 12:13:55 :: 20201019 "
     ]
    },
    {
     "name": "stderr",
     "output_type": "stream",
     "text": [
      "/homes/dirmeyer/.local/lib/python3.7/site-packages/dask/array/numpy_compat.py:40: RuntimeWarning: invalid value encountered in true_divide\n",
      "  x = np.divide(x1, x2, out)\n"
     ]
    },
    {
     "name": "stdout",
     "output_type": "stream",
     "text": [
      "\n",
      "At 12:15:03 :: 20201020 "
     ]
    },
    {
     "name": "stderr",
     "output_type": "stream",
     "text": [
      "/homes/dirmeyer/.local/lib/python3.7/site-packages/dask/array/numpy_compat.py:40: RuntimeWarning: invalid value encountered in true_divide\n",
      "  x = np.divide(x1, x2, out)\n"
     ]
    },
    {
     "name": "stdout",
     "output_type": "stream",
     "text": [
      "\n",
      "At 12:16:16 :: 20201021 "
     ]
    },
    {
     "name": "stderr",
     "output_type": "stream",
     "text": [
      "/homes/dirmeyer/.local/lib/python3.7/site-packages/dask/array/numpy_compat.py:40: RuntimeWarning: invalid value encountered in true_divide\n",
      "  x = np.divide(x1, x2, out)\n"
     ]
    },
    {
     "name": "stdout",
     "output_type": "stream",
     "text": [
      "\n",
      "At 12:17:24 :: 20201022 "
     ]
    },
    {
     "name": "stderr",
     "output_type": "stream",
     "text": [
      "/homes/dirmeyer/.local/lib/python3.7/site-packages/dask/array/numpy_compat.py:40: RuntimeWarning: invalid value encountered in true_divide\n",
      "  x = np.divide(x1, x2, out)\n"
     ]
    },
    {
     "name": "stdout",
     "output_type": "stream",
     "text": [
      "\n",
      "At 12:18:39 :: 20201023 "
     ]
    },
    {
     "name": "stderr",
     "output_type": "stream",
     "text": [
      "/homes/dirmeyer/.local/lib/python3.7/site-packages/dask/array/numpy_compat.py:40: RuntimeWarning: invalid value encountered in true_divide\n",
      "  x = np.divide(x1, x2, out)\n"
     ]
    },
    {
     "name": "stdout",
     "output_type": "stream",
     "text": [
      "\n",
      "At 12:19:51 :: 20201024 "
     ]
    },
    {
     "name": "stderr",
     "output_type": "stream",
     "text": [
      "/homes/dirmeyer/.local/lib/python3.7/site-packages/dask/array/numpy_compat.py:40: RuntimeWarning: invalid value encountered in true_divide\n",
      "  x = np.divide(x1, x2, out)\n"
     ]
    },
    {
     "name": "stdout",
     "output_type": "stream",
     "text": [
      "\n",
      "At 12:21:02 :: 20201025 "
     ]
    },
    {
     "name": "stderr",
     "output_type": "stream",
     "text": [
      "/homes/dirmeyer/.local/lib/python3.7/site-packages/dask/array/numpy_compat.py:40: RuntimeWarning: invalid value encountered in true_divide\n",
      "  x = np.divide(x1, x2, out)\n"
     ]
    },
    {
     "name": "stdout",
     "output_type": "stream",
     "text": [
      "\n",
      "At 12:22:16 :: 20201026 "
     ]
    },
    {
     "name": "stderr",
     "output_type": "stream",
     "text": [
      "/homes/dirmeyer/.local/lib/python3.7/site-packages/dask/array/numpy_compat.py:40: RuntimeWarning: invalid value encountered in true_divide\n",
      "  x = np.divide(x1, x2, out)\n"
     ]
    },
    {
     "name": "stdout",
     "output_type": "stream",
     "text": [
      "\n",
      "At 12:23:26 :: 20201027 "
     ]
    },
    {
     "name": "stderr",
     "output_type": "stream",
     "text": [
      "/homes/dirmeyer/.local/lib/python3.7/site-packages/dask/array/numpy_compat.py:40: RuntimeWarning: invalid value encountered in true_divide\n",
      "  x = np.divide(x1, x2, out)\n"
     ]
    },
    {
     "name": "stdout",
     "output_type": "stream",
     "text": [
      "\n",
      "At 12:24:36 :: 20201028 "
     ]
    },
    {
     "name": "stderr",
     "output_type": "stream",
     "text": [
      "/homes/dirmeyer/.local/lib/python3.7/site-packages/dask/array/numpy_compat.py:40: RuntimeWarning: invalid value encountered in true_divide\n",
      "  x = np.divide(x1, x2, out)\n"
     ]
    },
    {
     "name": "stdout",
     "output_type": "stream",
     "text": [
      "\n",
      "At 12:25:53 :: 20201029 "
     ]
    },
    {
     "name": "stderr",
     "output_type": "stream",
     "text": [
      "/homes/dirmeyer/.local/lib/python3.7/site-packages/dask/array/numpy_compat.py:40: RuntimeWarning: invalid value encountered in true_divide\n",
      "  x = np.divide(x1, x2, out)\n"
     ]
    },
    {
     "name": "stdout",
     "output_type": "stream",
     "text": [
      "\n",
      "At 12:27:05 :: 20201030 "
     ]
    },
    {
     "name": "stderr",
     "output_type": "stream",
     "text": [
      "/homes/dirmeyer/.local/lib/python3.7/site-packages/dask/array/numpy_compat.py:40: RuntimeWarning: invalid value encountered in true_divide\n",
      "  x = np.divide(x1, x2, out)\n"
     ]
    },
    {
     "name": "stdout",
     "output_type": "stream",
     "text": [
      "\n",
      "At 12:28:15 :: 20201031 "
     ]
    },
    {
     "name": "stderr",
     "output_type": "stream",
     "text": [
      "/homes/dirmeyer/.local/lib/python3.7/site-packages/dask/array/numpy_compat.py:40: RuntimeWarning: invalid value encountered in true_divide\n",
      "  x = np.divide(x1, x2, out)\n"
     ]
    },
    {
     "name": "stdout",
     "output_type": "stream",
     "text": [
      "\n",
      "At 12:29:29 :: 20201101 "
     ]
    },
    {
     "name": "stderr",
     "output_type": "stream",
     "text": [
      "/homes/dirmeyer/.local/lib/python3.7/site-packages/dask/array/numpy_compat.py:40: RuntimeWarning: invalid value encountered in true_divide\n",
      "  x = np.divide(x1, x2, out)\n"
     ]
    },
    {
     "name": "stdout",
     "output_type": "stream",
     "text": [
      "\n",
      "At 12:30:39 :: 20201102 "
     ]
    },
    {
     "name": "stderr",
     "output_type": "stream",
     "text": [
      "/homes/dirmeyer/.local/lib/python3.7/site-packages/dask/array/numpy_compat.py:40: RuntimeWarning: invalid value encountered in true_divide\n",
      "  x = np.divide(x1, x2, out)\n"
     ]
    },
    {
     "name": "stdout",
     "output_type": "stream",
     "text": [
      "\n",
      "At 12:31:51 :: 20201103 "
     ]
    },
    {
     "name": "stderr",
     "output_type": "stream",
     "text": [
      "/homes/dirmeyer/.local/lib/python3.7/site-packages/dask/array/numpy_compat.py:40: RuntimeWarning: invalid value encountered in true_divide\n",
      "  x = np.divide(x1, x2, out)\n"
     ]
    },
    {
     "name": "stdout",
     "output_type": "stream",
     "text": [
      "\n",
      "At 12:33:02 :: 20201104 "
     ]
    },
    {
     "name": "stderr",
     "output_type": "stream",
     "text": [
      "/homes/dirmeyer/.local/lib/python3.7/site-packages/dask/array/numpy_compat.py:40: RuntimeWarning: invalid value encountered in true_divide\n",
      "  x = np.divide(x1, x2, out)\n"
     ]
    },
    {
     "name": "stdout",
     "output_type": "stream",
     "text": [
      "\n",
      "At 12:34:18 :: 20201105 "
     ]
    },
    {
     "name": "stderr",
     "output_type": "stream",
     "text": [
      "/homes/dirmeyer/.local/lib/python3.7/site-packages/dask/array/numpy_compat.py:40: RuntimeWarning: invalid value encountered in true_divide\n",
      "  x = np.divide(x1, x2, out)\n"
     ]
    },
    {
     "name": "stdout",
     "output_type": "stream",
     "text": [
      "\n",
      "At 12:35:29 :: 20201106 "
     ]
    },
    {
     "name": "stderr",
     "output_type": "stream",
     "text": [
      "/homes/dirmeyer/.local/lib/python3.7/site-packages/dask/array/numpy_compat.py:40: RuntimeWarning: invalid value encountered in true_divide\n",
      "  x = np.divide(x1, x2, out)\n"
     ]
    },
    {
     "name": "stdout",
     "output_type": "stream",
     "text": [
      "\n",
      "At 12:36:39 :: 20201107 "
     ]
    },
    {
     "name": "stderr",
     "output_type": "stream",
     "text": [
      "/homes/dirmeyer/.local/lib/python3.7/site-packages/dask/array/numpy_compat.py:40: RuntimeWarning: invalid value encountered in true_divide\n",
      "  x = np.divide(x1, x2, out)\n"
     ]
    },
    {
     "name": "stdout",
     "output_type": "stream",
     "text": [
      "\n",
      "At 12:37:47 :: 20201108 "
     ]
    },
    {
     "name": "stderr",
     "output_type": "stream",
     "text": [
      "/homes/dirmeyer/.local/lib/python3.7/site-packages/dask/array/numpy_compat.py:40: RuntimeWarning: invalid value encountered in true_divide\n",
      "  x = np.divide(x1, x2, out)\n"
     ]
    },
    {
     "name": "stdout",
     "output_type": "stream",
     "text": [
      "\n",
      "At 12:39:04 :: 20201109 "
     ]
    },
    {
     "name": "stderr",
     "output_type": "stream",
     "text": [
      "/homes/dirmeyer/.local/lib/python3.7/site-packages/dask/array/numpy_compat.py:40: RuntimeWarning: invalid value encountered in true_divide\n",
      "  x = np.divide(x1, x2, out)\n"
     ]
    },
    {
     "name": "stdout",
     "output_type": "stream",
     "text": [
      "\n",
      "At 12:40:14 :: 20201110 "
     ]
    },
    {
     "name": "stderr",
     "output_type": "stream",
     "text": [
      "/homes/dirmeyer/.local/lib/python3.7/site-packages/dask/array/numpy_compat.py:40: RuntimeWarning: invalid value encountered in true_divide\n",
      "  x = np.divide(x1, x2, out)\n"
     ]
    },
    {
     "name": "stdout",
     "output_type": "stream",
     "text": [
      "\n",
      "At 12:41:28 :: 20201111 "
     ]
    },
    {
     "name": "stderr",
     "output_type": "stream",
     "text": [
      "/homes/dirmeyer/.local/lib/python3.7/site-packages/dask/array/numpy_compat.py:40: RuntimeWarning: invalid value encountered in true_divide\n",
      "  x = np.divide(x1, x2, out)\n"
     ]
    },
    {
     "name": "stdout",
     "output_type": "stream",
     "text": [
      "\n",
      "At 12:42:37 :: 20201112 "
     ]
    },
    {
     "name": "stderr",
     "output_type": "stream",
     "text": [
      "/homes/dirmeyer/.local/lib/python3.7/site-packages/dask/array/numpy_compat.py:40: RuntimeWarning: invalid value encountered in true_divide\n",
      "  x = np.divide(x1, x2, out)\n"
     ]
    },
    {
     "name": "stdout",
     "output_type": "stream",
     "text": [
      "\n",
      "At 12:43:49 :: 20201113 "
     ]
    },
    {
     "name": "stderr",
     "output_type": "stream",
     "text": [
      "/homes/dirmeyer/.local/lib/python3.7/site-packages/dask/array/numpy_compat.py:40: RuntimeWarning: invalid value encountered in true_divide\n",
      "  x = np.divide(x1, x2, out)\n"
     ]
    },
    {
     "name": "stdout",
     "output_type": "stream",
     "text": [
      "\n",
      "At 12:44:59 :: 20201114 "
     ]
    },
    {
     "name": "stderr",
     "output_type": "stream",
     "text": [
      "/homes/dirmeyer/.local/lib/python3.7/site-packages/dask/array/numpy_compat.py:40: RuntimeWarning: invalid value encountered in true_divide\n",
      "  x = np.divide(x1, x2, out)\n"
     ]
    },
    {
     "name": "stdout",
     "output_type": "stream",
     "text": [
      "\n",
      "At 12:46:08 :: 20201115 "
     ]
    },
    {
     "name": "stderr",
     "output_type": "stream",
     "text": [
      "/homes/dirmeyer/.local/lib/python3.7/site-packages/dask/array/numpy_compat.py:40: RuntimeWarning: invalid value encountered in true_divide\n",
      "  x = np.divide(x1, x2, out)\n"
     ]
    },
    {
     "name": "stdout",
     "output_type": "stream",
     "text": [
      "\n",
      "At 12:47:20 :: 20201116 "
     ]
    },
    {
     "name": "stderr",
     "output_type": "stream",
     "text": [
      "/homes/dirmeyer/.local/lib/python3.7/site-packages/dask/array/numpy_compat.py:40: RuntimeWarning: invalid value encountered in true_divide\n",
      "  x = np.divide(x1, x2, out)\n"
     ]
    },
    {
     "name": "stdout",
     "output_type": "stream",
     "text": [
      "\n",
      "At 12:48:33 :: 20201117 "
     ]
    },
    {
     "name": "stderr",
     "output_type": "stream",
     "text": [
      "/homes/dirmeyer/.local/lib/python3.7/site-packages/dask/array/numpy_compat.py:40: RuntimeWarning: invalid value encountered in true_divide\n",
      "  x = np.divide(x1, x2, out)\n"
     ]
    },
    {
     "name": "stdout",
     "output_type": "stream",
     "text": [
      "\n",
      "At 12:49:51 :: 20201118 "
     ]
    },
    {
     "name": "stderr",
     "output_type": "stream",
     "text": [
      "/homes/dirmeyer/.local/lib/python3.7/site-packages/dask/array/numpy_compat.py:40: RuntimeWarning: invalid value encountered in true_divide\n",
      "  x = np.divide(x1, x2, out)\n"
     ]
    },
    {
     "name": "stdout",
     "output_type": "stream",
     "text": [
      "\n",
      "At 12:51:03 :: 20201119 "
     ]
    },
    {
     "name": "stderr",
     "output_type": "stream",
     "text": [
      "/homes/dirmeyer/.local/lib/python3.7/site-packages/dask/array/numpy_compat.py:40: RuntimeWarning: invalid value encountered in true_divide\n",
      "  x = np.divide(x1, x2, out)\n"
     ]
    },
    {
     "name": "stdout",
     "output_type": "stream",
     "text": [
      "\n",
      "At 12:52:15 :: 20201120 "
     ]
    },
    {
     "name": "stderr",
     "output_type": "stream",
     "text": [
      "/homes/dirmeyer/.local/lib/python3.7/site-packages/dask/array/numpy_compat.py:40: RuntimeWarning: invalid value encountered in true_divide\n",
      "  x = np.divide(x1, x2, out)\n"
     ]
    },
    {
     "name": "stdout",
     "output_type": "stream",
     "text": [
      "\n",
      "At 12:53:29 :: 20201121 "
     ]
    },
    {
     "name": "stderr",
     "output_type": "stream",
     "text": [
      "/homes/dirmeyer/.local/lib/python3.7/site-packages/dask/array/numpy_compat.py:40: RuntimeWarning: invalid value encountered in true_divide\n",
      "  x = np.divide(x1, x2, out)\n"
     ]
    },
    {
     "name": "stdout",
     "output_type": "stream",
     "text": [
      "\n",
      "At 12:54:38 :: 20201122 "
     ]
    },
    {
     "name": "stderr",
     "output_type": "stream",
     "text": [
      "/homes/dirmeyer/.local/lib/python3.7/site-packages/dask/array/numpy_compat.py:40: RuntimeWarning: invalid value encountered in true_divide\n",
      "  x = np.divide(x1, x2, out)\n"
     ]
    },
    {
     "name": "stdout",
     "output_type": "stream",
     "text": [
      "\n",
      "At 12:55:49 :: 20201123 "
     ]
    },
    {
     "name": "stderr",
     "output_type": "stream",
     "text": [
      "/homes/dirmeyer/.local/lib/python3.7/site-packages/dask/array/numpy_compat.py:40: RuntimeWarning: invalid value encountered in true_divide\n",
      "  x = np.divide(x1, x2, out)\n"
     ]
    },
    {
     "name": "stdout",
     "output_type": "stream",
     "text": [
      "\n",
      "At 12:57:03 :: 20201124 "
     ]
    },
    {
     "name": "stderr",
     "output_type": "stream",
     "text": [
      "/homes/dirmeyer/.local/lib/python3.7/site-packages/dask/array/numpy_compat.py:40: RuntimeWarning: invalid value encountered in true_divide\n",
      "  x = np.divide(x1, x2, out)\n"
     ]
    },
    {
     "name": "stdout",
     "output_type": "stream",
     "text": [
      "\n",
      "At 12:58:15 :: 20201125 "
     ]
    },
    {
     "name": "stderr",
     "output_type": "stream",
     "text": [
      "/homes/dirmeyer/.local/lib/python3.7/site-packages/dask/array/numpy_compat.py:40: RuntimeWarning: invalid value encountered in true_divide\n",
      "  x = np.divide(x1, x2, out)\n"
     ]
    },
    {
     "name": "stdout",
     "output_type": "stream",
     "text": [
      "\n",
      "At 12:59:26 :: 20201126 "
     ]
    },
    {
     "name": "stderr",
     "output_type": "stream",
     "text": [
      "/homes/dirmeyer/.local/lib/python3.7/site-packages/dask/array/numpy_compat.py:40: RuntimeWarning: invalid value encountered in true_divide\n",
      "  x = np.divide(x1, x2, out)\n"
     ]
    },
    {
     "name": "stdout",
     "output_type": "stream",
     "text": [
      "\n",
      "At 13:00:34 :: 20201127 "
     ]
    },
    {
     "name": "stderr",
     "output_type": "stream",
     "text": [
      "/homes/dirmeyer/.local/lib/python3.7/site-packages/dask/array/numpy_compat.py:40: RuntimeWarning: invalid value encountered in true_divide\n",
      "  x = np.divide(x1, x2, out)\n"
     ]
    },
    {
     "name": "stdout",
     "output_type": "stream",
     "text": [
      "\n",
      "At 13:01:49 :: 20201128 "
     ]
    },
    {
     "name": "stderr",
     "output_type": "stream",
     "text": [
      "/homes/dirmeyer/.local/lib/python3.7/site-packages/dask/array/numpy_compat.py:40: RuntimeWarning: invalid value encountered in true_divide\n",
      "  x = np.divide(x1, x2, out)\n"
     ]
    },
    {
     "name": "stdout",
     "output_type": "stream",
     "text": [
      "\n",
      "At 13:02:55 :: 20201129 "
     ]
    },
    {
     "name": "stderr",
     "output_type": "stream",
     "text": [
      "/homes/dirmeyer/.local/lib/python3.7/site-packages/dask/array/numpy_compat.py:40: RuntimeWarning: invalid value encountered in true_divide\n",
      "  x = np.divide(x1, x2, out)\n"
     ]
    },
    {
     "name": "stdout",
     "output_type": "stream",
     "text": [
      "\n",
      "At 13:04:07 :: 20201130 "
     ]
    },
    {
     "name": "stderr",
     "output_type": "stream",
     "text": [
      "/homes/dirmeyer/.local/lib/python3.7/site-packages/dask/array/numpy_compat.py:40: RuntimeWarning: invalid value encountered in true_divide\n",
      "  x = np.divide(x1, x2, out)\n"
     ]
    },
    {
     "name": "stdout",
     "output_type": "stream",
     "text": [
      "\n",
      "At 13:05:19 :: 20201201 "
     ]
    },
    {
     "name": "stderr",
     "output_type": "stream",
     "text": [
      "/homes/dirmeyer/.local/lib/python3.7/site-packages/dask/array/numpy_compat.py:40: RuntimeWarning: invalid value encountered in true_divide\n",
      "  x = np.divide(x1, x2, out)\n"
     ]
    },
    {
     "name": "stdout",
     "output_type": "stream",
     "text": [
      "\n",
      "At 13:06:36 :: 20201202 "
     ]
    },
    {
     "name": "stderr",
     "output_type": "stream",
     "text": [
      "/homes/dirmeyer/.local/lib/python3.7/site-packages/dask/array/numpy_compat.py:40: RuntimeWarning: invalid value encountered in true_divide\n",
      "  x = np.divide(x1, x2, out)\n"
     ]
    },
    {
     "name": "stdout",
     "output_type": "stream",
     "text": [
      "\n",
      "At 13:07:46 :: 20201203 "
     ]
    },
    {
     "name": "stderr",
     "output_type": "stream",
     "text": [
      "/homes/dirmeyer/.local/lib/python3.7/site-packages/dask/array/numpy_compat.py:40: RuntimeWarning: invalid value encountered in true_divide\n",
      "  x = np.divide(x1, x2, out)\n"
     ]
    },
    {
     "name": "stdout",
     "output_type": "stream",
     "text": [
      "\n",
      "At 13:09:01 :: 20201204 "
     ]
    },
    {
     "name": "stderr",
     "output_type": "stream",
     "text": [
      "/homes/dirmeyer/.local/lib/python3.7/site-packages/dask/array/numpy_compat.py:40: RuntimeWarning: invalid value encountered in true_divide\n",
      "  x = np.divide(x1, x2, out)\n"
     ]
    },
    {
     "name": "stdout",
     "output_type": "stream",
     "text": [
      "\n",
      "At 13:10:11 :: 20201205 "
     ]
    },
    {
     "name": "stderr",
     "output_type": "stream",
     "text": [
      "/homes/dirmeyer/.local/lib/python3.7/site-packages/dask/array/numpy_compat.py:40: RuntimeWarning: invalid value encountered in true_divide\n",
      "  x = np.divide(x1, x2, out)\n"
     ]
    },
    {
     "name": "stdout",
     "output_type": "stream",
     "text": [
      "\n",
      "At 13:11:28 :: 20201206 "
     ]
    },
    {
     "name": "stderr",
     "output_type": "stream",
     "text": [
      "/homes/dirmeyer/.local/lib/python3.7/site-packages/dask/array/numpy_compat.py:40: RuntimeWarning: invalid value encountered in true_divide\n",
      "  x = np.divide(x1, x2, out)\n"
     ]
    },
    {
     "name": "stdout",
     "output_type": "stream",
     "text": [
      "\n",
      "At 13:12:42 :: 20201207 "
     ]
    },
    {
     "name": "stderr",
     "output_type": "stream",
     "text": [
      "/homes/dirmeyer/.local/lib/python3.7/site-packages/dask/array/numpy_compat.py:40: RuntimeWarning: invalid value encountered in true_divide\n",
      "  x = np.divide(x1, x2, out)\n"
     ]
    },
    {
     "name": "stdout",
     "output_type": "stream",
     "text": [
      "\n",
      "At 13:13:52 :: 20201208 "
     ]
    },
    {
     "name": "stderr",
     "output_type": "stream",
     "text": [
      "/homes/dirmeyer/.local/lib/python3.7/site-packages/dask/array/numpy_compat.py:40: RuntimeWarning: invalid value encountered in true_divide\n",
      "  x = np.divide(x1, x2, out)\n"
     ]
    },
    {
     "name": "stdout",
     "output_type": "stream",
     "text": [
      "\n",
      "At 13:15:04 :: 20201209 "
     ]
    },
    {
     "name": "stderr",
     "output_type": "stream",
     "text": [
      "/homes/dirmeyer/.local/lib/python3.7/site-packages/dask/array/numpy_compat.py:40: RuntimeWarning: invalid value encountered in true_divide\n",
      "  x = np.divide(x1, x2, out)\n"
     ]
    },
    {
     "name": "stdout",
     "output_type": "stream",
     "text": [
      "\n",
      "At 13:16:11 :: 20201210 "
     ]
    },
    {
     "name": "stderr",
     "output_type": "stream",
     "text": [
      "/homes/dirmeyer/.local/lib/python3.7/site-packages/dask/array/numpy_compat.py:40: RuntimeWarning: invalid value encountered in true_divide\n",
      "  x = np.divide(x1, x2, out)\n"
     ]
    },
    {
     "name": "stdout",
     "output_type": "stream",
     "text": [
      "\n",
      "At 13:17:20 :: 20201211 "
     ]
    },
    {
     "name": "stderr",
     "output_type": "stream",
     "text": [
      "/homes/dirmeyer/.local/lib/python3.7/site-packages/dask/array/numpy_compat.py:40: RuntimeWarning: invalid value encountered in true_divide\n",
      "  x = np.divide(x1, x2, out)\n"
     ]
    },
    {
     "name": "stdout",
     "output_type": "stream",
     "text": [
      "\n",
      "At 13:18:29 :: 20201212 "
     ]
    },
    {
     "name": "stderr",
     "output_type": "stream",
     "text": [
      "/homes/dirmeyer/.local/lib/python3.7/site-packages/dask/array/numpy_compat.py:40: RuntimeWarning: invalid value encountered in true_divide\n",
      "  x = np.divide(x1, x2, out)\n"
     ]
    },
    {
     "name": "stdout",
     "output_type": "stream",
     "text": [
      "\n",
      "At 13:19:42 :: 20201213 "
     ]
    },
    {
     "name": "stderr",
     "output_type": "stream",
     "text": [
      "/homes/dirmeyer/.local/lib/python3.7/site-packages/dask/array/numpy_compat.py:40: RuntimeWarning: invalid value encountered in true_divide\n",
      "  x = np.divide(x1, x2, out)\n"
     ]
    },
    {
     "name": "stdout",
     "output_type": "stream",
     "text": [
      "\n",
      "At 13:20:52 :: 20201214 "
     ]
    },
    {
     "name": "stderr",
     "output_type": "stream",
     "text": [
      "/homes/dirmeyer/.local/lib/python3.7/site-packages/dask/array/numpy_compat.py:40: RuntimeWarning: invalid value encountered in true_divide\n",
      "  x = np.divide(x1, x2, out)\n"
     ]
    },
    {
     "name": "stdout",
     "output_type": "stream",
     "text": [
      "\n",
      "At 13:22:06 :: 20201215 "
     ]
    },
    {
     "name": "stderr",
     "output_type": "stream",
     "text": [
      "/homes/dirmeyer/.local/lib/python3.7/site-packages/dask/array/numpy_compat.py:40: RuntimeWarning: invalid value encountered in true_divide\n",
      "  x = np.divide(x1, x2, out)\n"
     ]
    },
    {
     "name": "stdout",
     "output_type": "stream",
     "text": [
      "\n",
      "At 13:23:18 :: 20201216 "
     ]
    },
    {
     "name": "stderr",
     "output_type": "stream",
     "text": [
      "/homes/dirmeyer/.local/lib/python3.7/site-packages/dask/array/numpy_compat.py:40: RuntimeWarning: invalid value encountered in true_divide\n",
      "  x = np.divide(x1, x2, out)\n"
     ]
    },
    {
     "name": "stdout",
     "output_type": "stream",
     "text": [
      "\n",
      "At 13:24:32 :: 20201217 "
     ]
    },
    {
     "name": "stderr",
     "output_type": "stream",
     "text": [
      "/homes/dirmeyer/.local/lib/python3.7/site-packages/dask/array/numpy_compat.py:40: RuntimeWarning: invalid value encountered in true_divide\n",
      "  x = np.divide(x1, x2, out)\n"
     ]
    },
    {
     "name": "stdout",
     "output_type": "stream",
     "text": [
      "\n",
      "At 13:25:43 :: 20201218 "
     ]
    },
    {
     "name": "stderr",
     "output_type": "stream",
     "text": [
      "/homes/dirmeyer/.local/lib/python3.7/site-packages/dask/array/numpy_compat.py:40: RuntimeWarning: invalid value encountered in true_divide\n",
      "  x = np.divide(x1, x2, out)\n"
     ]
    },
    {
     "name": "stdout",
     "output_type": "stream",
     "text": [
      "\n",
      "At 13:26:57 :: 20201219 "
     ]
    },
    {
     "name": "stderr",
     "output_type": "stream",
     "text": [
      "/homes/dirmeyer/.local/lib/python3.7/site-packages/dask/array/numpy_compat.py:40: RuntimeWarning: invalid value encountered in true_divide\n",
      "  x = np.divide(x1, x2, out)\n"
     ]
    },
    {
     "name": "stdout",
     "output_type": "stream",
     "text": [
      "\n",
      "At 13:28:10 :: 20201220 "
     ]
    },
    {
     "name": "stderr",
     "output_type": "stream",
     "text": [
      "/homes/dirmeyer/.local/lib/python3.7/site-packages/dask/array/numpy_compat.py:40: RuntimeWarning: invalid value encountered in true_divide\n",
      "  x = np.divide(x1, x2, out)\n"
     ]
    },
    {
     "name": "stdout",
     "output_type": "stream",
     "text": [
      "\n",
      "At 13:29:23 :: 20201221 "
     ]
    },
    {
     "name": "stderr",
     "output_type": "stream",
     "text": [
      "/homes/dirmeyer/.local/lib/python3.7/site-packages/dask/array/numpy_compat.py:40: RuntimeWarning: invalid value encountered in true_divide\n",
      "  x = np.divide(x1, x2, out)\n"
     ]
    },
    {
     "name": "stdout",
     "output_type": "stream",
     "text": [
      "\n",
      "At 13:30:34 :: 20201222 "
     ]
    },
    {
     "name": "stderr",
     "output_type": "stream",
     "text": [
      "/homes/dirmeyer/.local/lib/python3.7/site-packages/dask/array/numpy_compat.py:40: RuntimeWarning: invalid value encountered in true_divide\n",
      "  x = np.divide(x1, x2, out)\n"
     ]
    },
    {
     "name": "stdout",
     "output_type": "stream",
     "text": [
      "\n",
      "At 13:31:40 :: 20201223 "
     ]
    },
    {
     "name": "stderr",
     "output_type": "stream",
     "text": [
      "/homes/dirmeyer/.local/lib/python3.7/site-packages/dask/array/numpy_compat.py:40: RuntimeWarning: invalid value encountered in true_divide\n",
      "  x = np.divide(x1, x2, out)\n"
     ]
    },
    {
     "name": "stdout",
     "output_type": "stream",
     "text": [
      "\n",
      "At 13:32:39 :: 20201224 "
     ]
    },
    {
     "name": "stderr",
     "output_type": "stream",
     "text": [
      "/homes/dirmeyer/.local/lib/python3.7/site-packages/dask/array/numpy_compat.py:40: RuntimeWarning: invalid value encountered in true_divide\n",
      "  x = np.divide(x1, x2, out)\n"
     ]
    },
    {
     "name": "stdout",
     "output_type": "stream",
     "text": [
      "\n",
      "At 13:33:48 :: 20201225 "
     ]
    },
    {
     "name": "stderr",
     "output_type": "stream",
     "text": [
      "/homes/dirmeyer/.local/lib/python3.7/site-packages/dask/array/numpy_compat.py:40: RuntimeWarning: invalid value encountered in true_divide\n",
      "  x = np.divide(x1, x2, out)\n"
     ]
    },
    {
     "name": "stdout",
     "output_type": "stream",
     "text": [
      "\n",
      "At 13:34:53 :: 20201226 "
     ]
    },
    {
     "name": "stderr",
     "output_type": "stream",
     "text": [
      "/homes/dirmeyer/.local/lib/python3.7/site-packages/dask/array/numpy_compat.py:40: RuntimeWarning: invalid value encountered in true_divide\n",
      "  x = np.divide(x1, x2, out)\n"
     ]
    },
    {
     "name": "stdout",
     "output_type": "stream",
     "text": [
      "\n",
      "At 13:36:00 :: 20201227 "
     ]
    },
    {
     "name": "stderr",
     "output_type": "stream",
     "text": [
      "/homes/dirmeyer/.local/lib/python3.7/site-packages/dask/array/numpy_compat.py:40: RuntimeWarning: invalid value encountered in true_divide\n",
      "  x = np.divide(x1, x2, out)\n"
     ]
    },
    {
     "name": "stdout",
     "output_type": "stream",
     "text": [
      "\n",
      "At 13:37:01 :: 20201228 "
     ]
    },
    {
     "name": "stderr",
     "output_type": "stream",
     "text": [
      "/homes/dirmeyer/.local/lib/python3.7/site-packages/dask/array/numpy_compat.py:40: RuntimeWarning: invalid value encountered in true_divide\n",
      "  x = np.divide(x1, x2, out)\n"
     ]
    },
    {
     "name": "stdout",
     "output_type": "stream",
     "text": [
      "\n",
      "At 13:37:49 :: 20201229 "
     ]
    },
    {
     "name": "stderr",
     "output_type": "stream",
     "text": [
      "/homes/dirmeyer/.local/lib/python3.7/site-packages/dask/array/numpy_compat.py:40: RuntimeWarning: invalid value encountered in true_divide\n",
      "  x = np.divide(x1, x2, out)\n"
     ]
    },
    {
     "name": "stdout",
     "output_type": "stream",
     "text": [
      "\n",
      "At 13:38:36 :: 20201230 "
     ]
    },
    {
     "name": "stderr",
     "output_type": "stream",
     "text": [
      "/homes/dirmeyer/.local/lib/python3.7/site-packages/dask/array/numpy_compat.py:40: RuntimeWarning: invalid value encountered in true_divide\n",
      "  x = np.divide(x1, x2, out)\n"
     ]
    },
    {
     "name": "stdout",
     "output_type": "stream",
     "text": [
      "\n",
      "At 13:39:23 :: 20201231 "
     ]
    },
    {
     "name": "stderr",
     "output_type": "stream",
     "text": [
      "/homes/dirmeyer/.local/lib/python3.7/site-packages/dask/array/numpy_compat.py:40: RuntimeWarning: invalid value encountered in true_divide\n",
      "  x = np.divide(x1, x2, out)\n"
     ]
    },
    {
     "name": "stdout",
     "output_type": "stream",
     "text": [
      "\n",
      "At 13:40:07 :: 20210101 "
     ]
    },
    {
     "name": "stderr",
     "output_type": "stream",
     "text": [
      "/homes/dirmeyer/.local/lib/python3.7/site-packages/dask/array/numpy_compat.py:40: RuntimeWarning: invalid value encountered in true_divide\n",
      "  x = np.divide(x1, x2, out)\n"
     ]
    },
    {
     "name": "stdout",
     "output_type": "stream",
     "text": [
      "\n",
      "At 13:40:51 :: 20210102 "
     ]
    },
    {
     "name": "stderr",
     "output_type": "stream",
     "text": [
      "/homes/dirmeyer/.local/lib/python3.7/site-packages/dask/array/numpy_compat.py:40: RuntimeWarning: invalid value encountered in true_divide\n",
      "  x = np.divide(x1, x2, out)\n"
     ]
    },
    {
     "name": "stdout",
     "output_type": "stream",
     "text": [
      "\n",
      "At 13:41:39 :: 20210103 "
     ]
    },
    {
     "name": "stderr",
     "output_type": "stream",
     "text": [
      "/homes/dirmeyer/.local/lib/python3.7/site-packages/dask/array/numpy_compat.py:40: RuntimeWarning: invalid value encountered in true_divide\n",
      "  x = np.divide(x1, x2, out)\n"
     ]
    },
    {
     "name": "stdout",
     "output_type": "stream",
     "text": [
      "\n",
      "At 13:42:24 :: 20210104 "
     ]
    },
    {
     "name": "stderr",
     "output_type": "stream",
     "text": [
      "/homes/dirmeyer/.local/lib/python3.7/site-packages/dask/array/numpy_compat.py:40: RuntimeWarning: invalid value encountered in true_divide\n",
      "  x = np.divide(x1, x2, out)\n"
     ]
    },
    {
     "name": "stdout",
     "output_type": "stream",
     "text": [
      "\n",
      "At 13:43:14 :: 20210105 "
     ]
    },
    {
     "name": "stderr",
     "output_type": "stream",
     "text": [
      "/homes/dirmeyer/.local/lib/python3.7/site-packages/dask/array/numpy_compat.py:40: RuntimeWarning: invalid value encountered in true_divide\n",
      "  x = np.divide(x1, x2, out)\n"
     ]
    },
    {
     "name": "stdout",
     "output_type": "stream",
     "text": [
      "\n",
      "At 13:44:05 :: 20210106 "
     ]
    },
    {
     "name": "stderr",
     "output_type": "stream",
     "text": [
      "/homes/dirmeyer/.local/lib/python3.7/site-packages/dask/array/numpy_compat.py:40: RuntimeWarning: invalid value encountered in true_divide\n",
      "  x = np.divide(x1, x2, out)\n"
     ]
    },
    {
     "name": "stdout",
     "output_type": "stream",
     "text": [
      "\n",
      "At 13:44:49 :: 20210107 "
     ]
    },
    {
     "name": "stderr",
     "output_type": "stream",
     "text": [
      "/homes/dirmeyer/.local/lib/python3.7/site-packages/dask/array/numpy_compat.py:40: RuntimeWarning: invalid value encountered in true_divide\n",
      "  x = np.divide(x1, x2, out)\n"
     ]
    },
    {
     "name": "stdout",
     "output_type": "stream",
     "text": [
      "\n",
      "At 13:45:34 :: 20210108 "
     ]
    },
    {
     "name": "stderr",
     "output_type": "stream",
     "text": [
      "/homes/dirmeyer/.local/lib/python3.7/site-packages/dask/array/numpy_compat.py:40: RuntimeWarning: invalid value encountered in true_divide\n",
      "  x = np.divide(x1, x2, out)\n"
     ]
    },
    {
     "name": "stdout",
     "output_type": "stream",
     "text": [
      "\n",
      "At 13:46:20 :: 20210109 "
     ]
    },
    {
     "name": "stderr",
     "output_type": "stream",
     "text": [
      "/homes/dirmeyer/.local/lib/python3.7/site-packages/dask/array/numpy_compat.py:40: RuntimeWarning: invalid value encountered in true_divide\n",
      "  x = np.divide(x1, x2, out)\n"
     ]
    },
    {
     "name": "stdout",
     "output_type": "stream",
     "text": [
      "\n",
      "At 13:47:09 :: 20210110 "
     ]
    },
    {
     "name": "stderr",
     "output_type": "stream",
     "text": [
      "/homes/dirmeyer/.local/lib/python3.7/site-packages/dask/array/numpy_compat.py:40: RuntimeWarning: invalid value encountered in true_divide\n",
      "  x = np.divide(x1, x2, out)\n"
     ]
    },
    {
     "name": "stdout",
     "output_type": "stream",
     "text": [
      "\n",
      "At 13:47:57 :: 20210111 "
     ]
    },
    {
     "name": "stderr",
     "output_type": "stream",
     "text": [
      "/homes/dirmeyer/.local/lib/python3.7/site-packages/dask/array/numpy_compat.py:40: RuntimeWarning: invalid value encountered in true_divide\n",
      "  x = np.divide(x1, x2, out)\n"
     ]
    },
    {
     "name": "stdout",
     "output_type": "stream",
     "text": [
      "\n",
      "At 13:48:51 :: 20210112 "
     ]
    },
    {
     "name": "stderr",
     "output_type": "stream",
     "text": [
      "/homes/dirmeyer/.local/lib/python3.7/site-packages/dask/array/numpy_compat.py:40: RuntimeWarning: invalid value encountered in true_divide\n",
      "  x = np.divide(x1, x2, out)\n"
     ]
    },
    {
     "name": "stdout",
     "output_type": "stream",
     "text": [
      "\n",
      "At 13:50:00 :: 20210113 "
     ]
    },
    {
     "name": "stderr",
     "output_type": "stream",
     "text": [
      "/homes/dirmeyer/.local/lib/python3.7/site-packages/dask/array/numpy_compat.py:40: RuntimeWarning: invalid value encountered in true_divide\n",
      "  x = np.divide(x1, x2, out)\n"
     ]
    },
    {
     "name": "stdout",
     "output_type": "stream",
     "text": [
      "\n",
      "At 13:51:05 :: 20210114 "
     ]
    },
    {
     "name": "stderr",
     "output_type": "stream",
     "text": [
      "/homes/dirmeyer/.local/lib/python3.7/site-packages/dask/array/numpy_compat.py:40: RuntimeWarning: invalid value encountered in true_divide\n",
      "  x = np.divide(x1, x2, out)\n"
     ]
    },
    {
     "name": "stdout",
     "output_type": "stream",
     "text": [
      "\n",
      "At 13:52:18 :: 20210115 "
     ]
    },
    {
     "name": "stderr",
     "output_type": "stream",
     "text": [
      "/homes/dirmeyer/.local/lib/python3.7/site-packages/dask/array/numpy_compat.py:40: RuntimeWarning: invalid value encountered in true_divide\n",
      "  x = np.divide(x1, x2, out)\n"
     ]
    },
    {
     "name": "stdout",
     "output_type": "stream",
     "text": [
      "\n",
      "At 13:53:32 :: 20210116 "
     ]
    },
    {
     "name": "stderr",
     "output_type": "stream",
     "text": [
      "/homes/dirmeyer/.local/lib/python3.7/site-packages/dask/array/numpy_compat.py:40: RuntimeWarning: invalid value encountered in true_divide\n",
      "  x = np.divide(x1, x2, out)\n"
     ]
    },
    {
     "name": "stdout",
     "output_type": "stream",
     "text": [
      "\n",
      "At 13:54:49 :: 20210117 "
     ]
    },
    {
     "name": "stderr",
     "output_type": "stream",
     "text": [
      "/homes/dirmeyer/.local/lib/python3.7/site-packages/dask/array/numpy_compat.py:40: RuntimeWarning: invalid value encountered in true_divide\n",
      "  x = np.divide(x1, x2, out)\n"
     ]
    },
    {
     "name": "stdout",
     "output_type": "stream",
     "text": [
      "\n",
      "At 13:56:01 :: 20210118 "
     ]
    },
    {
     "name": "stderr",
     "output_type": "stream",
     "text": [
      "/homes/dirmeyer/.local/lib/python3.7/site-packages/dask/array/numpy_compat.py:40: RuntimeWarning: invalid value encountered in true_divide\n",
      "  x = np.divide(x1, x2, out)\n"
     ]
    },
    {
     "name": "stdout",
     "output_type": "stream",
     "text": [
      "\n",
      "At 13:57:14 :: 20210119 "
     ]
    },
    {
     "name": "stderr",
     "output_type": "stream",
     "text": [
      "/homes/dirmeyer/.local/lib/python3.7/site-packages/dask/array/numpy_compat.py:40: RuntimeWarning: invalid value encountered in true_divide\n",
      "  x = np.divide(x1, x2, out)\n"
     ]
    },
    {
     "name": "stdout",
     "output_type": "stream",
     "text": [
      "\n",
      "At 13:58:25 :: 20210120 "
     ]
    },
    {
     "name": "stderr",
     "output_type": "stream",
     "text": [
      "/homes/dirmeyer/.local/lib/python3.7/site-packages/dask/array/numpy_compat.py:40: RuntimeWarning: invalid value encountered in true_divide\n",
      "  x = np.divide(x1, x2, out)\n"
     ]
    },
    {
     "name": "stdout",
     "output_type": "stream",
     "text": [
      "\n",
      "At 13:59:38 :: 20210121 "
     ]
    },
    {
     "name": "stderr",
     "output_type": "stream",
     "text": [
      "/homes/dirmeyer/.local/lib/python3.7/site-packages/dask/array/numpy_compat.py:40: RuntimeWarning: invalid value encountered in true_divide\n",
      "  x = np.divide(x1, x2, out)\n"
     ]
    },
    {
     "name": "stdout",
     "output_type": "stream",
     "text": [
      "\n",
      "At 14:00:45 :: 20210122 "
     ]
    },
    {
     "name": "stderr",
     "output_type": "stream",
     "text": [
      "/homes/dirmeyer/.local/lib/python3.7/site-packages/dask/array/numpy_compat.py:40: RuntimeWarning: invalid value encountered in true_divide\n",
      "  x = np.divide(x1, x2, out)\n"
     ]
    },
    {
     "name": "stdout",
     "output_type": "stream",
     "text": [
      "\n",
      "At 14:02:00 :: 20210123 "
     ]
    },
    {
     "name": "stderr",
     "output_type": "stream",
     "text": [
      "/homes/dirmeyer/.local/lib/python3.7/site-packages/dask/array/numpy_compat.py:40: RuntimeWarning: invalid value encountered in true_divide\n",
      "  x = np.divide(x1, x2, out)\n"
     ]
    },
    {
     "name": "stdout",
     "output_type": "stream",
     "text": [
      "\n",
      "At 14:03:14 :: 20210124 "
     ]
    },
    {
     "name": "stderr",
     "output_type": "stream",
     "text": [
      "/homes/dirmeyer/.local/lib/python3.7/site-packages/dask/array/numpy_compat.py:40: RuntimeWarning: invalid value encountered in true_divide\n",
      "  x = np.divide(x1, x2, out)\n"
     ]
    },
    {
     "name": "stdout",
     "output_type": "stream",
     "text": [
      "\n",
      "At 14:04:24 :: 20210125 "
     ]
    },
    {
     "name": "stderr",
     "output_type": "stream",
     "text": [
      "/homes/dirmeyer/.local/lib/python3.7/site-packages/dask/array/numpy_compat.py:40: RuntimeWarning: invalid value encountered in true_divide\n",
      "  x = np.divide(x1, x2, out)\n"
     ]
    },
    {
     "name": "stdout",
     "output_type": "stream",
     "text": [
      "\n",
      "At 14:05:42 :: 20210126 "
     ]
    },
    {
     "name": "stderr",
     "output_type": "stream",
     "text": [
      "/homes/dirmeyer/.local/lib/python3.7/site-packages/dask/array/numpy_compat.py:40: RuntimeWarning: invalid value encountered in true_divide\n",
      "  x = np.divide(x1, x2, out)\n"
     ]
    },
    {
     "name": "stdout",
     "output_type": "stream",
     "text": [
      "\n",
      "At 14:06:57 :: 20210127 "
     ]
    },
    {
     "name": "stderr",
     "output_type": "stream",
     "text": [
      "/homes/dirmeyer/.local/lib/python3.7/site-packages/dask/array/numpy_compat.py:40: RuntimeWarning: invalid value encountered in true_divide\n",
      "  x = np.divide(x1, x2, out)\n"
     ]
    },
    {
     "name": "stdout",
     "output_type": "stream",
     "text": [
      "\n",
      "At 14:08:08 :: 20210128 "
     ]
    },
    {
     "name": "stderr",
     "output_type": "stream",
     "text": [
      "/homes/dirmeyer/.local/lib/python3.7/site-packages/dask/array/numpy_compat.py:40: RuntimeWarning: invalid value encountered in true_divide\n",
      "  x = np.divide(x1, x2, out)\n"
     ]
    },
    {
     "name": "stdout",
     "output_type": "stream",
     "text": [
      "\n",
      "At 14:09:27 :: 20210129 "
     ]
    },
    {
     "name": "stderr",
     "output_type": "stream",
     "text": [
      "/homes/dirmeyer/.local/lib/python3.7/site-packages/dask/array/numpy_compat.py:40: RuntimeWarning: invalid value encountered in true_divide\n",
      "  x = np.divide(x1, x2, out)\n"
     ]
    },
    {
     "name": "stdout",
     "output_type": "stream",
     "text": [
      "\n",
      "At 14:10:35 :: 20210130 "
     ]
    },
    {
     "name": "stderr",
     "output_type": "stream",
     "text": [
      "/homes/dirmeyer/.local/lib/python3.7/site-packages/dask/array/numpy_compat.py:40: RuntimeWarning: invalid value encountered in true_divide\n",
      "  x = np.divide(x1, x2, out)\n"
     ]
    },
    {
     "name": "stdout",
     "output_type": "stream",
     "text": [
      "\n",
      "At 14:11:49 :: 20210131 "
     ]
    },
    {
     "name": "stderr",
     "output_type": "stream",
     "text": [
      "/homes/dirmeyer/.local/lib/python3.7/site-packages/dask/array/numpy_compat.py:40: RuntimeWarning: invalid value encountered in true_divide\n",
      "  x = np.divide(x1, x2, out)\n"
     ]
    },
    {
     "name": "stdout",
     "output_type": "stream",
     "text": [
      "\n",
      "At 14:13:04 :: 20210201 "
     ]
    },
    {
     "name": "stderr",
     "output_type": "stream",
     "text": [
      "/homes/dirmeyer/.local/lib/python3.7/site-packages/dask/array/numpy_compat.py:40: RuntimeWarning: invalid value encountered in true_divide\n",
      "  x = np.divide(x1, x2, out)\n"
     ]
    },
    {
     "name": "stdout",
     "output_type": "stream",
     "text": [
      "\n",
      "At 14:14:16 :: 20210202 "
     ]
    },
    {
     "name": "stderr",
     "output_type": "stream",
     "text": [
      "/homes/dirmeyer/.local/lib/python3.7/site-packages/dask/array/numpy_compat.py:40: RuntimeWarning: invalid value encountered in true_divide\n",
      "  x = np.divide(x1, x2, out)\n"
     ]
    },
    {
     "name": "stdout",
     "output_type": "stream",
     "text": [
      "\n",
      "At 14:15:28 :: 20210203 "
     ]
    },
    {
     "name": "stderr",
     "output_type": "stream",
     "text": [
      "/homes/dirmeyer/.local/lib/python3.7/site-packages/dask/array/numpy_compat.py:40: RuntimeWarning: invalid value encountered in true_divide\n",
      "  x = np.divide(x1, x2, out)\n"
     ]
    },
    {
     "name": "stdout",
     "output_type": "stream",
     "text": [
      "\n",
      "At 14:16:44 :: 20210204 "
     ]
    },
    {
     "name": "stderr",
     "output_type": "stream",
     "text": [
      "/homes/dirmeyer/.local/lib/python3.7/site-packages/dask/array/numpy_compat.py:40: RuntimeWarning: invalid value encountered in true_divide\n",
      "  x = np.divide(x1, x2, out)\n"
     ]
    },
    {
     "name": "stdout",
     "output_type": "stream",
     "text": [
      "\n",
      "At 14:18:02 :: 20210205 "
     ]
    },
    {
     "name": "stderr",
     "output_type": "stream",
     "text": [
      "/homes/dirmeyer/.local/lib/python3.7/site-packages/dask/array/numpy_compat.py:40: RuntimeWarning: invalid value encountered in true_divide\n",
      "  x = np.divide(x1, x2, out)\n"
     ]
    },
    {
     "name": "stdout",
     "output_type": "stream",
     "text": [
      "\n",
      "At 14:19:14 :: 20210206 "
     ]
    },
    {
     "name": "stderr",
     "output_type": "stream",
     "text": [
      "/homes/dirmeyer/.local/lib/python3.7/site-packages/dask/array/numpy_compat.py:40: RuntimeWarning: invalid value encountered in true_divide\n",
      "  x = np.divide(x1, x2, out)\n"
     ]
    },
    {
     "name": "stdout",
     "output_type": "stream",
     "text": [
      "\n",
      "At 14:20:27 :: 20210207 "
     ]
    },
    {
     "name": "stderr",
     "output_type": "stream",
     "text": [
      "/homes/dirmeyer/.local/lib/python3.7/site-packages/dask/array/numpy_compat.py:40: RuntimeWarning: invalid value encountered in true_divide\n",
      "  x = np.divide(x1, x2, out)\n"
     ]
    }
   ],
   "source": [
    "date0=datetime.datetime(y0,m0,d0)\n",
    "date1=datetime.datetime(y1,m1,d1)\n",
    "\n",
    "comp = dict(zlib=True, complevel=1)\n",
    "\n",
    "# Loop thru all days - find relevat files, report surprises\n",
    "for i in rrule(DAILY , dtstart=date0,until=date1):\n",
    "    dtg = i.strftime('%Y%m%d')\n",
    "    print(\"At\",strftime(\"%H:%M:%S\",gmtime()),'::',dtg,end=' ')\n",
    "    path_files=glob.glob(version+'/'+source+'/'+fprefix+dtg+'*.'+ftype)\n",
    "    path_files = sorted(path_files)\n",
    "    n_files = len(path_files)\n",
    "    if n_files != 8 :\n",
    "        print('missing',8-n_files,'files',end='')\n",
    "#    name_mods = [''] * n_mods\n",
    "#    for p,path_mod in enumerate(path_mods):\n",
    "#        name_mods[p] = path_mod.split('/')[7].split('.')[7]\n",
    "    try:\n",
    "        smap_coords = xr.open_dataset(path_files[0]).squeeze()\n",
    "        smap_dmean = xr.open_mfdataset(path_files,combine='nested',concat_dim='interval',group='Geophysical_Data').squeeze().mean(dim='interval')\n",
    "        smap_out = xr.merge([smap_coords,smap_dmean])        \n",
    "        encoding = {var: comp for var in smap_out.data_vars}        \n",
    "        smap_out.to_netcdf(version+'/'+destin+'/'+fprefix+dtg+'.nc4',engine=\"netcdf4\",format=\"netCDF4\",unlimited_dims='time',encoding=encoding)\n",
    "    except:\n",
    "        print('FAILED!')\n",
    "    print('')\n"
   ]
  },
  {
   "cell_type": "code",
   "execution_count": 80,
   "metadata": {},
   "outputs": [
    {
     "data": {
      "text/plain": [
       "<matplotlib.colorbar.Colorbar at 0x7f9871145518>"
      ]
     },
     "execution_count": 80,
     "metadata": {},
     "output_type": "execute_result"
    },
    {
     "data": {
      "image/png": "[encoded data removed]",
      "text/plain": [
       "<Figure size 432x288 with 2 Axes>"
      ]
     },
     "metadata": {
      "needs_background": "light"
     },
     "output_type": "display_data"
    }
   ],
   "source": [
    "plt.pcolormesh(ooo.cell_lat) ; plt.colorbar()"
   ]
  },
  {
   "cell_type": "code",
   "execution_count": 54,
   "metadata": {},
   "outputs": [
    {
     "data": {
      "text/plain": [
       "<matplotlib.colorbar.Colorbar at 0x7f987118b8d0>"
      ]
     },
     "execution_count": 54,
     "metadata": {},
     "output_type": "execute_result"
    },
    {
     "data": {
      "image/png": "[encoded data removed]",
      "text/plain": [
       "<Figure size 432x288 with 2 Axes>"
      ]
     },
     "metadata": {
      "needs_background": "light"
     },
     "output_type": "display_data"
    }
   ],
   "source": [
    "plt.pcolormesh(smap_data.radiation_shortwave_downward_flux[4]) ; plt.colorbar()"
   ]
  },
  {
   "cell_type": "code",
   "execution_count": null,
   "metadata": {},
   "outputs": [],
   "source": []
  }
 ],
 "metadata": {
  "kernelspec": {
   "display_name": "Python (pyenv3)",
   "language": "python",
   "name": "pyenv3"
  },
  "language_info": {
   "codemirror_mode": {
    "name": "ipython",
    "version": 3
   },
   "file_extension": ".py",
   "mimetype": "text/x-python",
   "name": "python",
   "nbconvert_exporter": "python",
   "pygments_lexer": "ipython3",
   "version": "3.7.3"
  }
 },
 "nbformat": 4,
 "nbformat_minor": 4
}
