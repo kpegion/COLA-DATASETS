{
 "cells": [
  {
   "cell_type": "markdown",
   "metadata": {},
   "source": [
    "## Testing h5 files"
   ]
  },
  {
   "cell_type": "code",
   "execution_count": 1,
   "metadata": {},
   "outputs": [],
   "source": [
    "import sys, warnings\n",
    "\n",
    "import glob\n",
    "import numpy as np\n",
    "import datetime\n",
    "from dateutil.rrule import DAILY,rrule\n",
    "from time import gmtime, strftime \n",
    "\n",
    "#import matplotlib as mpl\n",
    "import matplotlib.pyplot as plt\n",
    "#import matplotlib.colors as col\n",
    "#import matplotlib.cm as cm\n",
    "\n",
    "import xarray as xr\n",
    "\n",
    "warnings.filterwarnings(\"ignore\", category=RuntimeWarning)"
   ]
  },
  {
   "cell_type": "code",
   "execution_count": 2,
   "metadata": {},
   "outputs": [],
   "source": [
    "#file_path_name = \"/shared/land/SMAP/SPL4SMGP.005/3-hourly/SMAP_L4_SM_gph_20161101T*.h5\"\n",
    "#source = xr.open_mfdataset(file_path_name,combine='nested',compat='override',decode_times=False)\n",
    "#source\n"
   ]
  },
  {
   "cell_type": "code",
   "execution_count": null,
   "metadata": {},
   "outputs": [],
   "source": [
    "# file_path_name = \"/shared/land/SMAP/SPL4SMGP.005/3-hourly/SMAP_L4_SM_gph_20161101T*.h5\"\n",
    "# source = xr.open_mfdataset(file_path_name,combine='nested',concat_dim='time',,decode_times=False)\n",
    "# source"
   ]
  },
  {
   "cell_type": "code",
   "execution_count": 8,
   "metadata": {},
   "outputs": [
    {
     "name": "stdout",
     "output_type": "stream",
     "text": [
      "20161107\n",
      "['/shared/land/SMAP/SPL4SMGP.005/3-hourly/SMAP_L4_SM_gph_20161107T043000_Vv5012_001.h5', '/shared/land/SMAP/SPL4SMGP.005/3-hourly/SMAP_L4_SM_gph_20161107T103000_Vv5012_001.h5', '/shared/land/SMAP/SPL4SMGP.005/3-hourly/SMAP_L4_SM_gph_20161107T163000_Vv5012_001.h5', '/shared/land/SMAP/SPL4SMGP.005/3-hourly/SMAP_L4_SM_gph_20161107T223000_Vv5012_001.h5', '/shared/land/SMAP/SPL4SMGP.005/3-hourly/SMAP_L4_SM_gph_20161107T133000_Vv5012_001.h5', '/shared/land/SMAP/SPL4SMGP.005/3-hourly/SMAP_L4_SM_gph_20161107T073000_Vv5012_001.h5', '/shared/land/SMAP/SPL4SMGP.005/3-hourly/SMAP_L4_SM_gph_20161107T193000_Vv5012_001.h5', '/shared/land/SMAP/SPL4SMGP.005/3-hourly/SMAP_L4_SM_gph_20161107T013000_Vv5012_001.h5']\n"
     ]
    }
   ],
   "source": [
    "version = 'SPL4SMGP.005' ; fprefix = 'SMAP_L4_SM_gph_' ; source = '3-hourly'\n",
    "y0 = 2016\n",
    "m0 = 11\n",
    "d0 = 7\n",
    "date0=datetime.datetime(y0,m0,d0)\n",
    "\n",
    "dtg = date0.strftime('%Y%m%d')\n",
    "print(dtg)\n",
    "path_files=glob.glob('/shared/land/SMAP/'+version+'/'+source+'/'+fprefix+dtg+'*.h5')\n",
    "print(path_files)\n",
    "path_files = sorted(path_files)\n",
    "\n",
    "smap_day = xr.open_mfdataset(path_files,combine='nested',concat_dim='interval',group='Geophysical_Data')\n",
    "\n"
   ]
  },
  {
   "cell_type": "code",
   "execution_count": null,
   "metadata": {},
   "outputs": [],
   "source": []
  }
 ],
 "metadata": {
  "kernelspec": {
   "display_name": "Python (catalog-ing)",
   "language": "python",
   "name": "catalog-ing"
  },
  "language_info": {
   "codemirror_mode": {
    "name": "ipython",
    "version": 3
   },
   "file_extension": ".py",
   "mimetype": "text/x-python",
   "name": "python",
   "nbconvert_exporter": "python",
   "pygments_lexer": "ipython3",
   "version": "3.6.10"
  }
 },
 "nbformat": 4,
 "nbformat_minor": 4
}
