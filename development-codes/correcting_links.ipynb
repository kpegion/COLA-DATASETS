{
 "cells": [
  {
   "cell_type": "code",
   "execution_count": 1,
   "metadata": {},
   "outputs": [],
   "source": [
    "import os\n",
    "import re\n",
    "\n",
    "def rewrite(file):\n",
    "    fp = open(file, \"r+\")\n",
    "    fin = fp.read()\n",
    "    matchee = re.sub(\"/shared/cmip5/data/.*/r\\di\\dp\\d/(.*_r1i1p1)_\\d{6}-\\d{6}.nc\",lambda match: '%s' % (match.group(1)) , fin)\n",
    "    fp.seek(0,0)\n",
    "    fp.write(matchee)\n",
    "    fp.close()\n",
    "os.chdir('C://Users//Noushin//Desktop/tiny/')\n",
    "for file in os.listdir(os.getcwd()):\n",
    "    rewrite(file)"
   ]
  },
  {
   "cell_type": "code",
   "execution_count": null,
   "metadata": {},
   "outputs": [],
   "source": []
  }
 ],
 "metadata": {
  "kernelspec": {
   "display_name": "Python 3",
   "language": "python",
   "name": "python3"
  },
  "language_info": {
   "codemirror_mode": {
    "name": "ipython",
    "version": 3
   },
   "file_extension": ".py",
   "mimetype": "text/x-python",
   "name": "python",
   "nbconvert_exporter": "python",
   "pygments_lexer": "ipython3",
   "version": "3.7.3"
  }
 },
 "nbformat": 4,
 "nbformat_minor": 4
}
