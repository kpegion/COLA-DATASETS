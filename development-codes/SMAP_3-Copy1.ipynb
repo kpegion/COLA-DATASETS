{
 "cells": [
  {
   "cell_type": "code",
   "execution_count": 1,
   "metadata": {},
   "outputs": [],
   "source": [
    "import sys, warnings, intake\n",
    "\n",
    "import glob\n",
    "import numpy as np\n",
    "import datetime\n",
    "from dateutil.rrule import DAILY,rrule\n",
    "from time import gmtime, strftime \n",
    "\n",
    "#import matplotlib as mpl\n",
    "import matplotlib.pyplot as plt\n",
    "#import matplotlib.colors as col\n",
    "#import matplotlib.cm as cm\n",
    "\n",
    "import xarray as xr\n",
    "\n",
    "warnings.filterwarnings(\"ignore\", category=RuntimeWarning)"
   ]
  },
  {
   "cell_type": "code",
   "execution_count": 2,
   "metadata": {},
   "outputs": [
    {
     "ename": "TypeError",
     "evalue": "open_dataset() got an unexpected keyword argument 'phony_dims'",
     "output_type": "error",
     "traceback": [
      "\u001b[0;31m---------------------------------------------------------------------------\u001b[0m",
      "\u001b[0;31mTypeError\u001b[0m                                 Traceback (most recent call last)",
      "\u001b[0;32m<ipython-input-2-a639f7a5d4a9>\u001b[0m in \u001b[0;36m<module>\u001b[0;34m\u001b[0m\n\u001b[1;32m      1\u001b[0m \u001b[0mpath_file\u001b[0m \u001b[0;34m=\u001b[0m \u001b[0;34m\"/shared/land/SMAP/SPL3SMP_E.004/SMAP_L3_SM_P_E_20160227.h5\"\u001b[0m\u001b[0;34m\u001b[0m\u001b[0;34m\u001b[0m\u001b[0m\n\u001b[0;32m----> 2\u001b[0;31m \u001b[0msmapL3_am\u001b[0m \u001b[0;34m=\u001b[0m \u001b[0mxr\u001b[0m\u001b[0;34m.\u001b[0m\u001b[0mopen_dataset\u001b[0m\u001b[0;34m(\u001b[0m\u001b[0mpath_file\u001b[0m\u001b[0;34m,\u001b[0m\u001b[0mgroup\u001b[0m\u001b[0;34m=\u001b[0m\u001b[0;34m'Soil_Moisture_Retrieval_Data_AM'\u001b[0m\u001b[0;34m,\u001b[0m\u001b[0mphony_dims\u001b[0m\u001b[0;34m=\u001b[0m\u001b[0;34m'access'\u001b[0m\u001b[0;34m,\u001b[0m\u001b[0mengine\u001b[0m\u001b[0;34m=\u001b[0m\u001b[0;34m'h5netcdf'\u001b[0m\u001b[0;34m)\u001b[0m\u001b[0;34m\u001b[0m\u001b[0;34m\u001b[0m\u001b[0m\n\u001b[0m\u001b[1;32m      3\u001b[0m \u001b[0msmapL3_pm\u001b[0m \u001b[0;34m=\u001b[0m \u001b[0mxr\u001b[0m\u001b[0;34m.\u001b[0m\u001b[0mopen_dataset\u001b[0m\u001b[0;34m(\u001b[0m\u001b[0mpath_file\u001b[0m\u001b[0;34m,\u001b[0m\u001b[0mgroup\u001b[0m\u001b[0;34m=\u001b[0m\u001b[0;34m'Soil_Moisture_Retrieval_Data_PM'\u001b[0m\u001b[0;34m,\u001b[0m\u001b[0mphony_dims\u001b[0m\u001b[0;34m=\u001b[0m\u001b[0;34m'access'\u001b[0m\u001b[0;34m,\u001b[0m\u001b[0mengine\u001b[0m\u001b[0;34m=\u001b[0m\u001b[0;34m'h5netcdf'\u001b[0m\u001b[0;34m)\u001b[0m\u001b[0;34m\u001b[0m\u001b[0;34m\u001b[0m\u001b[0m\n\u001b[1;32m      4\u001b[0m \u001b[0;34m\u001b[0m\u001b[0m\n",
      "\u001b[0;31mTypeError\u001b[0m: open_dataset() got an unexpected keyword argument 'phony_dims'"
     ]
    }
   ],
   "source": [
    "path_file = \"/shared/land/SMAP/SPL3SMP_E.004/SMAP_L3_SM_P_E_20160227.h5\"\n",
    "smapL3_am = xr.open_dataset(path_file,group='Soil_Moisture_Retrieval_Data_AM',phony_dims='access',engine='h5netcdf')\n",
    "smapL3_pm = xr.open_dataset(path_file,group='Soil_Moisture_Retrieval_Data_PM',phony_dims='access',engine='h5netcdf')\n",
    "\n"
   ]
  }
 ],
 "metadata": {
  "kernelspec": {
   "display_name": "Python (catalog-ing)",
   "language": "python",
   "name": "catalog-ing"
  },
  "language_info": {
   "codemirror_mode": {
    "name": "ipython",
    "version": 3
   },
   "file_extension": ".py",
   "mimetype": "text/x-python",
   "name": "python",
   "nbconvert_exporter": "python",
   "pygments_lexer": "ipython3",
   "version": "3.6.10"
  }
 },
 "nbformat": 4,
 "nbformat_minor": 4
}
