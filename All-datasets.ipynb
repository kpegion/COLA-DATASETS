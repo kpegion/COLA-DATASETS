{
 "cells": [
  {
   "cell_type": "code",
   "execution_count": 1,
   "metadata": {},
   "outputs": [
    {
     "name": "stdout",
     "output_type": "stream",
     "text": [
      "['obs', 'Gridded', 'atm', 'Air-Temperature', 'ghcn_cams', 'Precip', 'cmap_pentad', 'cmap_monthly', 'gpcp', 'gpcc', 'cpc-precip-conus_monthly', 'cpc-precip-conus_daily', 'cpc-precip', 'legates', 'OLR', 'cpc-precip-conus_monthly', 'noaa_interp_olr_daily', 'fluxes', 'lh_daily', 'sh_daily', 'lh_monthly', 'whoi_oaflux_lh', 'sh_monthly', 'whoi_oaflux_sh', 'land', 'soil_moisture', 'soil_params', 'topo', 'integrated', 'ocn', 'temp_salt', 'en4.2.1', 'sst', 'cobe-sst2', 'hadisst', 'ersstv5', 'ersstv4', 'ersstv3b', 'oisstv2_weekly', 'oisstv2_monthly', 'ssh', 'aviso', 'reanalysis', 'analysis', 'model']\n"
     ]
    }
   ],
   "source": [
    "from intake import open_catalog\n",
    " \n",
    "catalog_name='https://raw.githubusercontent.com/kpegion/COLA-DATASETS-CATALOG/gh-pages/intake-catalogs/'\n",
    "cat = open_catalog(catalog_name+'master.yaml')\n",
    "result = []\n",
    "queue = []\n",
    "def my_recursive(catalog):\n",
    "    for i in list(catalog):\n",
    "        queue.append(i)\n",
    "   \n",
    "        while queue:\n",
    "            level_size = len(queue)\n",
    "            for _ in range(level_size):\n",
    "                current = queue.pop()\n",
    "                result.append(current)\n",
    "                subcat=open_catalog(catalog_name+current.lower()+'.yaml')\n",
    "\n",
    "\n",
    "                for j in list(subcat):\n",
    "                    if j not in ('netcdf','example'): \n",
    "                        queue.append(j)\n",
    "    return result\n",
    "\n",
    "print(my_recursive(cat))\n"
   ]
  },
  {
   "cell_type": "code",
   "execution_count": null,
   "metadata": {},
   "outputs": [],
   "source": []
  }
 ],
 "metadata": {
  "kernelspec": {
   "display_name": "Python 3",
   "language": "python",
   "name": "python3"
  },
  "language_info": {
   "codemirror_mode": {
    "name": "ipython",
    "version": 3
   },
   "file_extension": ".py",
   "mimetype": "text/x-python",
   "name": "python",
   "nbconvert_exporter": "python",
   "pygments_lexer": "ipython3",
   "version": "3.7.3"
  }
 },
 "nbformat": 4,
 "nbformat_minor": 4
}
